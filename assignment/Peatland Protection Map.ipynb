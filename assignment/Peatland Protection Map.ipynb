{
 "cells": [
  {
   "cell_type": "code",
   "execution_count": 13,
   "id": "ee2863f2-dc60-421d-837f-36fa436416f5",
   "metadata": {},
   "outputs": [],
   "source": [
    "\"\"\"\n",
    "Peatland Protection Interactive Map\n",
    "Shows protected/unprotected peatlands in Northern Ireland with clickable popups.\n",
    "Farms and trails are visible but not interactive.\n",
    "\"\"\"\n",
    "import geopandas as gpd  # for spatial data handling\n",
    "import pandas as pd      # for dataframes and joining\n",
    "import folium            # for interactive mapping\n",
    "from shapely.geometry import LineString  # for distance line drawing\n"
   ]
  },
  {
   "cell_type": "code",
   "execution_count": 14,
   "id": "2a0ce505-158c-46be-bc45-c3352e7e7e6c",
   "metadata": {},
   "outputs": [],
   "source": [
    "def load_and_prepare_data():\n",
    "    \"\"\"\n",
    "    Load and reproject all spatial datasets to EPSG:4326.\n",
    "    \"\"\"\n",
    "    peat = gpd.read_file(\"datafiles/Peatland/Priority_Habitats_-_Peatland.shp\").to_crs(epsg=4326)  # peatland polygons\n",
    "    assi = gpd.read_file(\"datafiles/ASSI/ASSI.shp\").to_crs(epsg=4326)                              # protected ASSI areas\n",
    "    aonb = gpd.read_file(\"datafiles/AONB/AONB.shp\").to_crs(epsg=4326)                              # AONB areas\n",
    "    trails = gpd.read_file(\"datafiles/Trails/offroadtrailsni.shp\").to_crs(epsg=4326)              # trails network\n",
    "    scheme_data = gpd.read_file(\"datafiles/Farm/SchemeData.shp\").to_crs(epsg=4326)                 # farm scheme data\n",
    "\n",
    "    return peat, assi, aonb, trails, scheme_data\n",
    "    peat, assi, aonb, trails, scheme_data = load_and_prepare_data()"
   ]
  },
  {
   "cell_type": "code",
   "execution_count": 15,
   "id": "433a9253-eb2a-46d0-af2a-7b9ea7eeba42",
   "metadata": {},
   "outputs": [
    {
     "data": {
      "text/plain": [
       "<Geographic 2D CRS: EPSG:4326>\n",
       "Name: WGS 84\n",
       "Axis Info [ellipsoidal]:\n",
       "- Lat[north]: Geodetic latitude (degree)\n",
       "- Lon[east]: Geodetic longitude (degree)\n",
       "Area of Use:\n",
       "- name: World.\n",
       "- bounds: (-180.0, -90.0, 180.0, 90.0)\n",
       "Datum: World Geodetic System 1984 ensemble\n",
       "- Ellipsoid: WGS 84\n",
       "- Prime Meridian: Greenwich"
      ]
     },
     "execution_count": 15,
     "metadata": {},
     "output_type": "execute_result"
    }
   ],
   "source": [
    "peat.crs "
   ]
  },
  {
   "cell_type": "code",
   "execution_count": 16,
   "id": "0e189743-db83-456e-a288-3e009b30587e",
   "metadata": {},
   "outputs": [
    {
     "data": {
      "text/plain": [
       "<Geographic 2D CRS: EPSG:4326>\n",
       "Name: WGS 84\n",
       "Axis Info [ellipsoidal]:\n",
       "- Lat[north]: Geodetic latitude (degree)\n",
       "- Lon[east]: Geodetic longitude (degree)\n",
       "Area of Use:\n",
       "- name: World.\n",
       "- bounds: (-180.0, -90.0, 180.0, 90.0)\n",
       "Datum: World Geodetic System 1984 ensemble\n",
       "- Ellipsoid: WGS 84\n",
       "- Prime Meridian: Greenwich"
      ]
     },
     "execution_count": 16,
     "metadata": {},
     "output_type": "execute_result"
    }
   ],
   "source": [
    "assi.crs"
   ]
  },
  {
   "cell_type": "code",
   "execution_count": 17,
   "id": "bd4bba3d-9a90-4345-803e-0330ea889a3c",
   "metadata": {},
   "outputs": [
    {
     "data": {
      "text/plain": [
       "<Geographic 2D CRS: EPSG:4326>\n",
       "Name: WGS 84\n",
       "Axis Info [ellipsoidal]:\n",
       "- Lat[north]: Geodetic latitude (degree)\n",
       "- Lon[east]: Geodetic longitude (degree)\n",
       "Area of Use:\n",
       "- name: World.\n",
       "- bounds: (-180.0, -90.0, 180.0, 90.0)\n",
       "Datum: World Geodetic System 1984 ensemble\n",
       "- Ellipsoid: WGS 84\n",
       "- Prime Meridian: Greenwich"
      ]
     },
     "execution_count": 17,
     "metadata": {},
     "output_type": "execute_result"
    }
   ],
   "source": [
    "aonb.crs"
   ]
  },
  {
   "cell_type": "code",
   "execution_count": 18,
   "id": "11ac46bf-f7d2-4e8b-8367-cfdef14fea20",
   "metadata": {},
   "outputs": [
    {
     "data": {
      "text/plain": [
       "<Geographic 2D CRS: EPSG:4326>\n",
       "Name: WGS 84\n",
       "Axis Info [ellipsoidal]:\n",
       "- Lat[north]: Geodetic latitude (degree)\n",
       "- Lon[east]: Geodetic longitude (degree)\n",
       "Area of Use:\n",
       "- name: World.\n",
       "- bounds: (-180.0, -90.0, 180.0, 90.0)\n",
       "Datum: World Geodetic System 1984 ensemble\n",
       "- Ellipsoid: WGS 84\n",
       "- Prime Meridian: Greenwich"
      ]
     },
     "execution_count": 18,
     "metadata": {},
     "output_type": "execute_result"
    }
   ],
   "source": [
    "trails.crs"
   ]
  },
  {
   "cell_type": "code",
   "execution_count": 19,
   "id": "4164aef4-8828-4fc3-91a1-a053adae54b1",
   "metadata": {},
   "outputs": [
    {
     "data": {
      "text/plain": [
       "<Geographic 2D CRS: EPSG:4326>\n",
       "Name: WGS 84\n",
       "Axis Info [ellipsoidal]:\n",
       "- Lat[north]: Geodetic latitude (degree)\n",
       "- Lon[east]: Geodetic longitude (degree)\n",
       "Area of Use:\n",
       "- name: World.\n",
       "- bounds: (-180.0, -90.0, 180.0, 90.0)\n",
       "Datum: World Geodetic System 1984 ensemble\n",
       "- Ellipsoid: WGS 84\n",
       "- Prime Meridian: Greenwich"
      ]
     },
     "execution_count": 19,
     "metadata": {},
     "output_type": "execute_result"
    }
   ],
   "source": [
    "scheme_data.crs"
   ]
  },
  {
   "cell_type": "code",
   "execution_count": 1,
   "id": "90834917-e6da-4daa-b246-571aa7c461f8",
   "metadata": {},
   "outputs": [],
   "source": [
    "def classify_peatland(peat, assi, aonb):\n",
    "    \"\"\"\n",
    "    Intersects peat with ASSI and AONB to create protected layer.\n",
    "    Remaining peat becomes unprotected layer.\n",
    "    \"\"\"\n",
    "    peat_assi = gpd.overlay(peat, assi, how='intersection')    # peat inside ASSI\n",
    "    peat_aonb = gpd.overlay(peat, aonb, how='intersection')    # peat inside AONB\n",
    "\n",
    "    protected_peat = gpd.GeoDataFrame(pd.concat([peat_assi, peat_aonb], ignore_index=True), crs=peat.crs).copy()  # merge\n",
    "    protected_peat[\"Area_ha\"] = protected_peat.to_crs(epsg=3035).geometry.area / 10000  # calculate hectares (in EPSG:3035)\n",
    "\n",
    "    unioned = protected_peat.geometry.union_all()  # create single protected area union\n",
    "    unprotected_peat = peat[~peat.geometry.intersects(unioned)].copy()  # everything else\n",
    "    unprotected_peat[\"Area_ha\"] = unprotected_peat.to_crs(epsg=3035).geometry.area / 10000  # area in hectares\n",
    "\n",
    "    return protected_peat, unprotected_peat\n"
   ]
  },
  {
   "cell_type": "code",
   "execution_count": null,
   "id": "4f78c28b-3b82-4f6a-8864-acdc46946482",
   "metadata": {},
   "outputs": [],
   "source": []
  }
 ],
 "metadata": {
  "kernelspec": {
   "display_name": "Python 3 (ipykernel)",
   "language": "python",
   "name": "python3"
  },
  "language_info": {
   "codemirror_mode": {
    "name": "ipython",
    "version": 3
   },
   "file_extension": ".py",
   "mimetype": "text/x-python",
   "name": "python",
   "nbconvert_exporter": "python",
   "pygments_lexer": "ipython3",
   "version": "3.13.3"
  }
 },
 "nbformat": 4,
 "nbformat_minor": 5
}
