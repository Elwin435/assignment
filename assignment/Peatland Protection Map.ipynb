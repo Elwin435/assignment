{
 "cells": [
  {
   "cell_type": "markdown",
   "id": "a3a82d2c-8841-47a3-a4ad-9dcde35bd214",
   "metadata": {},
   "source": [
    "# Peatland Protection Interactive Map\n",
    "_The script below uses various packages to load, modify and generate an interactive map which allows the user to engage and gain understanding of the peatlands residing in Northern Ireland. \n",
    "This map increases the awareness of various residents to avoid hindrance on unprotected areas._\n",
    "## Get Started!"
   ]
  },
  {
   "cell_type": "code",
   "execution_count": null,
   "id": "ee2863f2-dc60-421d-837f-36fa436416f5",
   "metadata": {},
   "outputs": [],
   "source": [
    "\"\"\"\n",
    "Peatland Protection  Interactive Map\n",
    "Shows protected/unprotected peatlands within Northern Ireland with clickable popups.\n",
    "Farms and trails are also visible within the map.\n",
    "\"\"\"\n",
    "import geopandas as gpd                    # Used for spatial data handling\n",
    "import pandas as pd                        # Used for dataframes and joining\n",
    "import folium                              # Used for interactive mapping\n",
    "from shapely.geometry import LineString    # Used for distance line drawing\n"
   ]
  },
  {
   "cell_type": "code",
   "execution_count": null,
   "id": "2a0ce505-158c-46be-bc45-c3352e7e7e6c",
   "metadata": {},
   "outputs": [],
   "source": [
    "def load_and_prepare_data():\n",
    "    \"\"\"\n",
    "    Load and reproject all spatial datasets to EPSG:4326.\n",
    "    \"\"\"\n",
    "    peat = gpd.read_file(\"datafiles/Peatland/Priority_Habitats_-_Peatland.shp\").to_crs(epsg=4326)    # Peatland polygons\n",
    "    assi = gpd.read_file(\"datafiles/ASSI/ASSI.shp\").to_crs(epsg=4326)                                # Protected ASSI areas\n",
    "    aonb = gpd.read_file(\"datafiles/AONB/AONB.shp\").to_crs(epsg=4326)                                # AONB areas\n",
    "    trails = gpd.read_file(\"datafiles/Trails/offroadtrailsni.shp\").to_crs(epsg=4326)                 # Trails networks\n",
    "    scheme_data = gpd.read_file(\"datafiles/Farm/SchemeData.shp\").to_crs(epsg=4326)                   # Farm scheme data\n",
    "\n",
    "    return peat, assi, aonb, trails, scheme_data\n",
    "peat, assi, aonb, trails, scheme_data = load_and_prepare_data()"
   ]
  },
  {
   "cell_type": "code",
   "execution_count": null,
   "id": "d376b57f-ca07-47c7-8998-f95f83d3bb04",
   "metadata": {},
   "outputs": [],
   "source": [
    "\"\"\"\n",
    "  Confirms peat is in EPSG:4326 for web display\n",
    "\"\"\"\n",
    "peat.crs"
   ]
  },
  {
   "cell_type": "code",
   "execution_count": null,
   "id": "0e189743-db83-456e-a288-3e009b30587e",
   "metadata": {},
   "outputs": [],
   "source": [
    "\"\"\"\n",
    "Confirms assi is in EPSG:4326 for web display\n",
    "\"\"\"\n",
    "assi.crs"
   ]
  },
  {
   "cell_type": "code",
   "execution_count": null,
   "id": "bd4bba3d-9a90-4345-803e-0330ea889a3c",
   "metadata": {},
   "outputs": [],
   "source": [
    "\"\"\"\n",
    "Confirms aonb is in EPSG:4326 for web display\n",
    "\"\"\"\n",
    "aonb.crs"
   ]
  },
  {
   "cell_type": "code",
   "execution_count": null,
   "id": "11ac46bf-f7d2-4e8b-8367-cfdef14fea20",
   "metadata": {},
   "outputs": [],
   "source": [
    "\"\"\"\n",
    "Confirms trails is in EPSG:4326 for web display\n",
    "\"\"\"\n",
    "trails.crs"
   ]
  },
  {
   "cell_type": "code",
   "execution_count": null,
   "id": "4164aef4-8828-4fc3-91a1-a053adae54b1",
   "metadata": {},
   "outputs": [],
   "source": [
    "\"\"\"\n",
    "Confirms scheme_data is in EPSG:4326 for web display\n",
    "\"\"\"\n",
    "scheme_data.crs"
   ]
  },
  {
   "cell_type": "code",
   "execution_count": null,
   "id": "bd1b5396-d0cc-4cf7-96b2-0d78f1cc2937",
   "metadata": {},
   "outputs": [],
   "source": [
    "\"\"\"\n",
    "Previews the first 10 rows of the peat GeoDataFrame to review structure and attributes\n",
    "\"\"\"\n",
    "peat.head(10)"
   ]
  },
  {
   "cell_type": "code",
   "execution_count": null,
   "id": "99f2d17c-2ed0-421c-bf40-d4e0dd4530bc",
   "metadata": {},
   "outputs": [],
   "source": [
    "\"\"\"\n",
    "Access and display the row of peat GeoDataFrame with index label 10\n",
    "\"\"\"\n",
    "peat.loc[10]"
   ]
  },
  {
   "cell_type": "code",
   "execution_count": null,
   "id": "5e900c13-1b81-4081-9732-e4bc1d6c049e",
   "metadata": {},
   "outputs": [],
   "source": [
    "peat['Area_Hecta'].sum() # Gives area of all peat in hectares"
   ]
  },
  {
   "cell_type": "code",
   "execution_count": null,
   "id": "5a28ff49-9079-41bb-ad85-34c5cf027e22",
   "metadata": {},
   "outputs": [],
   "source": [
    "peat['Area_Sq_Km'].sum() # Gives area of all peat in square kilometers "
   ]
  },
  {
   "cell_type": "code",
   "execution_count": null,
   "id": "9914acb3-0f7f-4c55-8af1-b91daf9df9a3",
   "metadata": {},
   "outputs": [],
   "source": [
    "peat['Shape__Are'].sum() # Gives sum of all peat within \"Shape__Are\""
   ]
  },
  {
   "cell_type": "code",
   "execution_count": null,
   "id": "17eae4f6-5c16-4485-ae8a-3733489cc9b7",
   "metadata": {},
   "outputs": [],
   "source": [
    "\"\"\"\n",
    "Previews the first 10 rows of the aonb GeoDataFrame to review structure and attributes\n",
    "\"\"\"\n",
    "aonb.head(10)"
   ]
  },
  {
   "cell_type": "code",
   "execution_count": null,
   "id": "aad36897-a3b3-48e0-9de3-b59fa7f0046c",
   "metadata": {},
   "outputs": [],
   "source": [
    "\"\"\"\n",
    "Preview the first 10 rows of the assi GeoDataFrame to review structure and attributes\n",
    "\"\"\"\n",
    "assi.head(10)"
   ]
  },
  {
   "cell_type": "code",
   "execution_count": null,
   "id": "cf0d6e77-19ab-4441-b089-375a503e376a",
   "metadata": {},
   "outputs": [],
   "source": [
    "\"\"\"\n",
    "Preview the first 10 rows of the trails GeoDataFrame to review structure and attributes\n",
    "\"\"\"\n",
    "trails.head(10)"
   ]
  },
  {
   "cell_type": "code",
   "execution_count": null,
   "id": "07050820-5fef-41d7-b751-874adee21dee",
   "metadata": {},
   "outputs": [],
   "source": [
    "\"\"\"\n",
    "Preview the first 10 rows of the scheme_data GeoDataFrame to review structure and attributes\n",
    "\"\"\"\n",
    "scheme_data.head(10)"
   ]
  },
  {
   "cell_type": "code",
   "execution_count": null,
   "id": "90834917-e6da-4daa-b246-571aa7c461f8",
   "metadata": {},
   "outputs": [],
   "source": [
    "def classify_peatland(peat, assi, aonb):\n",
    "    \"\"\"\n",
    "    Intersects peat with ASSI and AONB to create the protected layer.\n",
    "    The peat remaining becomes the unprotected layer.\n",
    "    \"\"\"\n",
    "\n",
    "    # Adapted for intersection from: https://geopandas.org/en/stable/docs/user_guide/set_operations.html\n",
    "    \n",
    "    peat_assi = gpd.overlay(peat, assi, how='intersection')    # peat joined inside ASSI\n",
    "    peat_aonb = gpd.overlay(peat, aonb, how='intersection')    # peat joined inside AONB\n",
    "\n",
    "    protected_peat = gpd.GeoDataFrame(pd.concat([peat_assi, peat_aonb], ignore_index=True), crs=peat.crs).copy()  # merges peat, ASSI and AONB\n",
    "    protected_peat[\"Area_ha\"] = protected_peat.to_crs(epsg=3035).geometry.area / 10000  # calculate area in hectares in EPSG:3035\n",
    "\n",
    "    unioned = protected_peat.geometry.union_all()  # create single protected area union\n",
    "    unprotected_peat = peat[~peat.geometry.intersects(unioned)].copy()  # combines everything else outside protected peat\n",
    "    unprotected_peat[\"Area_ha\"] = unprotected_peat.to_crs(epsg=3035).geometry.area / 10000  # calculate area in hectares in EPSG:3035\n",
    "\n",
    "    return protected_peat, unprotected_peat\n"
   ]
  },
  {
   "cell_type": "code",
   "execution_count": null,
   "id": "92d9796b-4e2f-4afc-b6d2-eda333418bb0",
   "metadata": {},
   "outputs": [],
   "source": [
    "def create_interactive_map(protected_peat, unprotected_peat, trails, scheme_data):\n",
    "    \"\"\"\n",
    "    Creates an interactive Folium map with multiple toggleable layers for:\n",
    "    - peat (Protected peatlands)\n",
    "    - peat (Unprotected peatlands)\n",
    "    - trails (Off-road trails)\n",
    "    - scheme Data (Farm (scheme data))\n",
    "    Includes popups and tooltips for each layer\n",
    "    \"\"\"\n",
    "    center = protected_peat.geometry.union_all().centroid  # gets the center of map based on peatlands\n",
    "\n",
    "    m = folium.Map(location=[center.y, center.x], zoom_start=8)  # base maps setup\n",
    "    \n",
    "\n",
    "    # Adapted for lamda from:https://github.com/python-visualization/folium/issues/318\n",
    "    # Adapted for layercontrol from: https://python-visualization.github.io/folium/latest/user_guide/ui_elements/layer_control.html\n",
    "    \n",
    "    #        - Protected Peat-\n",
    "    \n",
    "    fg_protected = folium.FeatureGroup(name=\"Protected Peatlands\", show=True)  # creates the layer group for toggle\n",
    "\n",
    "    for _, row in protected_peat.iterrows():  # proceses attributes and geometry within each protected peatland polygons\n",
    "        name = row.get(\"ASSI_NAME\") or row.get(\"AONB_NAME\") or row.get(\"NAME\") or \"Protected Peatland\"  # Assigns the name\n",
    "        area = round(row[\"Area_ha\"], 2)  # retrives area \n",
    "        folium.GeoJson(\n",
    "            row.geometry,\n",
    "            style_function=lambda x: {'fillColor': 'red', 'color': 'red', 'weight': 1, 'fillOpacity': 0.5},  # visually styles each polygon\n",
    "            tooltip=name,  # Displays name of the peatland as a label when hoverring over it\n",
    "            popup=folium.Popup(f\"<b>{name}</b><br>Area: {area} ha\", max_width=300)  # click shows popup with feature's of name and size.\n",
    "        ).add_to(fg_protected)  #adds to layer to allow it to be turned on/off\n",
    "\n",
    "    fg_protected.add_to(m)  # places into map\n",
    "    \n",
    "\n",
    "    #        - Unprotected Peat -\n",
    "    \n",
    "    fg_unprotected = folium.FeatureGroup(name=\"Unprotected Peatlands\", show=True)  # creates the layer group for toggle\n",
    "\n",
    "    for _, row in unprotected_peat.iterrows(): # proceses attributes and geometry within each unprotected peatland polygons\n",
    "        name = row.get(\"ASSI_NAME\") or row.get(\"AONB_NAME\") or row.get(\"NAME\") or \"Protected Peatland\" # Assigns the name\n",
    "        area = round(row[\"Area_ha\"], 2) # retrives area \n",
    "        folium.GeoJson(\n",
    "            row.geometry,\n",
    "            style_function=lambda x: {'fillColor': 'darkviolet', 'color': 'darkviolet', 'weight': 1, 'fillOpacity': 0.4},  # visually styles each polygon\n",
    "            tooltip=\"Unprotected Peatland\", # Displays name of the peatland as a label when hoverring over it\n",
    "            popup=folium.Popup(f\"<b>Unprotected Peatland</b><br>Area: {area} ha\", max_width=300) # click shows popup with feature's of name and size.\n",
    "        ).add_to(fg_unprotected) #adds to layer to allow it to be turned on/off\n",
    "\n",
    "    fg_unprotected.add_to(m) # places into map\n",
    "    \n",
    "\n",
    "    #         - Trails -\n",
    "    \n",
    "    fg_trails = folium.FeatureGroup(name=\"Off-Road Trails\", show=True)  # creates the layer group for toggle\n",
    "\n",
    "    folium.GeoJson(\n",
    "        trails,\n",
    "        style_function=lambda x: {'color': 'blue', 'weight': 1.2},  # visually styles each polygon\n",
    "        tooltip=folium.GeoJsonTooltip(\n",
    "        fields=['Name', 'Length'],\n",
    "            aliases=['Trail Name:', 'Length (km):'],\n",
    "            localize=True\n",
    "        ),\n",
    "        popup=folium.GeoJsonPopup(      #displays the name and length of each trail\n",
    "            fields=['Name', 'Length'],\n",
    "            aliases=['<b>Trail Name:</b>', '<b>Length (km):</b>'],\n",
    "            localize=True,\n",
    "            max_width=300\n",
    "        )\n",
    "    ).add_to(fg_trails) #adds to layer to allow it to be turned on/off\n",
    "    fg_trails.add_to(m) # places into map\n",
    "\n",
    "    \n",
    "    #        - Farms (Scheme Data) -\n",
    "    \n",
    "    \n",
    "    fg_farms = folium.FeatureGroup(name=\"Farms (Scheme Data)\", show=True)  # creates the layer group for toggle\n",
    "\n",
    "    for _, row in scheme_data.iterrows():  # proceses attributes and geometry within each farm polygons\n",
    "        if row.geometry.is_empty:\n",
    "            continue\n",
    "        label = row.get(\"FARM_ID\") or row.get(\"FARMREF\") or row.get(\"Farm_Name\") or \"Farm\"\n",
    "        folium.GeoJson(\n",
    "            row.geometry,\n",
    "            style_function=lambda x: {'fillColor': 'green', 'color': 'green', 'weight': 1, 'fillOpacity': 0.2},  # visually styles each polygon\n",
    "            tooltip=label, # Displays label of the farm as a label when hoverring over it\n",
    "            popup=folium.Popup(f\"<b>Farm ID:</b> {label}\", max_width=300)  # click shows popup with feature's of name and size.\n",
    "        ).add_to(fg_farms) #adds to layer to allow it to be turned on/off\n",
    "\n",
    "    fg_farms.add_to(m) # places into map\n",
    "    \n",
    "\n",
    "    #         - Add Layer Control -\n",
    "    \n",
    "    folium.LayerControl().add_to(m) # places into map\n",
    "    \n",
    "    return m\n"
   ]
  },
  {
   "cell_type": "code",
   "execution_count": null,
   "id": "637faf3b-85bc-4ba9-bcae-747b4ad60ea5",
   "metadata": {},
   "outputs": [],
   "source": [
    "\"\"\"\n",
    "Load Peatland Protection Map and save it as an html file\n",
    "\"\"\"\n",
    "\n",
    "# Load all datasets\n",
    "peat, assi, aonb, trails, scheme_data = load_and_prepare_data()\n",
    "\n",
    "# classifies protected status\n",
    "protected_peat, unprotected_peat = classify_peatland(peat, assi, aonb)\n",
    "\n",
    "# Builds the map with layers\n",
    "m = create_interactive_map(protected_peat, unprotected_peat, trails, scheme_data)\n",
    "\n",
    "# Save map as HTML file\n",
    "m.save(\"peatland_protection_map_interactive.html\")\n",
    "print(\"Map saved as: peatland_protection_map_interactive.html\")\n"
   ]
  },
  {
   "cell_type": "markdown",
   "id": "4d285773-00a2-47a0-93f3-74e8f244dda3",
   "metadata": {},
   "source": [
    "\n",
    "##### _You should now see an interactive map. Explore the map and increase your knowledge._\n",
    "\n",
    "#### _Thank you and Enjoy._"
   ]
  },
  {
   "cell_type": "code",
   "execution_count": null,
   "id": "1603914d-4fe6-42c0-a5d6-64ea503a9d9c",
   "metadata": {},
   "outputs": [],
   "source": []
  }
 ],
 "metadata": {
  "kernelspec": {
   "display_name": "Python 3 (ipykernel)",
   "language": "python",
   "name": "python3"
  },
  "language_info": {
   "codemirror_mode": {
    "name": "ipython",
    "version": 3
   },
   "file_extension": ".py",
   "mimetype": "text/x-python",
   "name": "python",
   "nbconvert_exporter": "python",
   "pygments_lexer": "ipython3",
   "version": "3.13.3"
  }
 },
 "nbformat": 4,
 "nbformat_minor": 5
}
